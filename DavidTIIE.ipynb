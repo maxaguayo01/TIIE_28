{
 "cells": [
  {
   "cell_type": "markdown",
   "id": "c198a8db",
   "metadata": {},
   "source": [
    "# Librerias"
   ]
  },
  {
   "cell_type": "code",
   "execution_count": null,
   "id": "935917a3",
   "metadata": {
    "vscode": {
     "languageId": "plaintext"
    }
   },
   "outputs": [],
   "source": [
    "import requests\n",
    "import pandas as pd\n",
    "import numpy as np\n",
    "import matplotlib.pyplot as plt\n",
    "import plotly.express as px\n",
    "from statsmodels.tsa.statespace.sarimax import SARIMAX\n",
    "from statsmodels.tsa.stattools import adfuller\n",
    "from sklearn.metrics import mean_absolute_percentage_error\n",
    "import warnings\n",
    "warnings.filterwarnings('ignore')"
   ]
  },
  {
   "cell_type": "markdown",
   "id": "95636879",
   "metadata": {},
   "source": [
    "# Token"
   ]
  },
  {
   "cell_type": "markdown",
   "id": "2f8b87a8",
   "metadata": {},
   "source": [
    "# Coloca tu token personal de Banxico\n",
    "BANXICO_TOKEN = \"caa9ce3af73a7040c54f64908e2af98fd965b7c816828c6d90836ff2dd38a9d2\"\n",
    "\n",
    "serie_id = \"SF43783\"  # ID de la TIIE a 28 días\n",
    "url = f\"https://www.banxico.org.mx/SieAPIRest/service/v1/series/{serie_id}/datos\"\n",
    "\n",
    "headers = {\"Bmx-Token\": BANXICO_TOKEN}\n",
    "response = requests.get(url, headers=headers)\n",
    "data = response.json()\n",
    "\n",
    "# Convertir a DataFrame\n",
    "datos = data['bmx']['series'][0]['datos']\n",
    "df = pd.DataFrame(datos)\n",
    "df['fecha'] = pd.to_datetime(df['fecha'])\n",
    "df['dato'] = pd.to_numeric(df['dato'], errors='coerce')\n",
    "df = df.set_index('fecha').sort_index()"
   ]
  }
 ],
 "metadata": {
  "language_info": {
   "name": "python"
  }
 },
 "nbformat": 4,
 "nbformat_minor": 5
}
